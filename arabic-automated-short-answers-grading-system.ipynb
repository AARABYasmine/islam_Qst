{
 "cells": [
  {
   "cell_type": "code",
   "execution_count": 17,
   "id": "aa7b2552-2927-46a8-8e7e-4904567b28fe",
   "metadata": {
    "ExecuteTime": {
     "end_time": "2024-01-09T22:29:25.135451200Z",
     "start_time": "2024-01-09T22:29:25.047417900Z"
    }
   },
   "outputs": [],
   "source": [
    "import re\n",
    "import math\n",
    "import tqdm\n",
    "import torch\n",
    "import string\n",
    "import random\n",
    "import numpy as np\n",
    "import unicodedata\n",
    "import pandas as pd\n",
    "import torch.nn as nn\n",
    "import seaborn as seaborn\n",
    "import matplotlib.pyplot as plt\n",
    "from collections import Counter\n",
    "from nltk.corpus import stopwords\n",
    "from gensim.models import Word2Vec\n",
    "from torchtext.vocab import FastText\n",
    "from nltk.tokenize import word_tokenize\n",
    "from torchtext.data import Field, Example\n",
    "from torchtext.data import Dataset as ttDataset\n",
    "from torch.utils.data import Dataset, DataLoader\n",
    "from sklearn.model_selection import train_test_split\n",
    "from nltk.stem import PorterStemmer, WordNetLemmatizer\n",
    "\n",
    "# Set seed for reproducibility\n",
    "SEED = 1234\n",
    "torch.manual_seed(SEED)\n",
    "torch.cuda.manual_seed(SEED)\n",
    "torch.backends.cudnn.deterministic = True\n",
    "random.seed(SEED)\n",
    "np.random.seed(SEED)\n",
    "\n",
    "# Load data'\n",
    "df = pd.read_csv('data2.csv')"
   ]
  },
  {
   "cell_type": "code",
   "execution_count": 18,
   "id": "0e121e86-0c03-46c8-b941-0f2a8b6f1bb7",
   "metadata": {
    "ExecuteTime": {
     "end_time": "2024-01-09T22:29:26.097005700Z",
     "start_time": "2024-01-09T22:29:26.036008400Z"
    }
   },
   "outputs": [
    {
     "name": "stdout",
     "output_type": "stream",
     "text": [
      "Dataset Overview:\n"
     ]
    },
    {
     "data": {
      "text/plain": "   Question_id                                           Question  \\\n0            1  يحتوي القرآن الكريم على (علامة السجدة) في عدة ...   \n1            1  يحتوي القرآن الكريم على (علامة السجدة) في عدة ...   \n2            1  يحتوي القرآن الكريم على (علامة السجدة) في عدة ...   \n3            1  يحتوي القرآن الكريم على (علامة السجدة) في عدة ...   \n4            1  يحتوي القرآن الكريم على (علامة السجدة) في عدة ...   \n\n                                              Answer  score  \n0  في القرآن الكريم، توجد علامات السجود في عدة مو...      1  \n1  هناك 15 موضعا في القرآن الكريم حيث وردت علامة ...      1  \n2  القرآن الكريم يحتوي على علامات السجدة في عدة م...      1  \n3                                  عدد المواضع هو 15      1  \n4                                  يحتوي على 15 سجدة      1  ",
      "text/html": "<div>\n<style scoped>\n    .dataframe tbody tr th:only-of-type {\n        vertical-align: middle;\n    }\n\n    .dataframe tbody tr th {\n        vertical-align: top;\n    }\n\n    .dataframe thead th {\n        text-align: right;\n    }\n</style>\n<table border=\"1\" class=\"dataframe\">\n  <thead>\n    <tr style=\"text-align: right;\">\n      <th></th>\n      <th>Question_id</th>\n      <th>Question</th>\n      <th>Answer</th>\n      <th>score</th>\n    </tr>\n  </thead>\n  <tbody>\n    <tr>\n      <th>0</th>\n      <td>1</td>\n      <td>يحتوي القرآن الكريم على (علامة السجدة) في عدة ...</td>\n      <td>في القرآن الكريم، توجد علامات السجود في عدة مو...</td>\n      <td>1</td>\n    </tr>\n    <tr>\n      <th>1</th>\n      <td>1</td>\n      <td>يحتوي القرآن الكريم على (علامة السجدة) في عدة ...</td>\n      <td>هناك 15 موضعا في القرآن الكريم حيث وردت علامة ...</td>\n      <td>1</td>\n    </tr>\n    <tr>\n      <th>2</th>\n      <td>1</td>\n      <td>يحتوي القرآن الكريم على (علامة السجدة) في عدة ...</td>\n      <td>القرآن الكريم يحتوي على علامات السجدة في عدة م...</td>\n      <td>1</td>\n    </tr>\n    <tr>\n      <th>3</th>\n      <td>1</td>\n      <td>يحتوي القرآن الكريم على (علامة السجدة) في عدة ...</td>\n      <td>عدد المواضع هو 15</td>\n      <td>1</td>\n    </tr>\n    <tr>\n      <th>4</th>\n      <td>1</td>\n      <td>يحتوي القرآن الكريم على (علامة السجدة) في عدة ...</td>\n      <td>يحتوي على 15 سجدة</td>\n      <td>1</td>\n    </tr>\n  </tbody>\n</table>\n</div>"
     },
     "execution_count": 18,
     "metadata": {},
     "output_type": "execute_result"
    }
   ],
   "source": [
    "print(\"Dataset Overview:\"); df.head()"
   ]
  },
  {
   "cell_type": "code",
   "execution_count": 19,
   "id": "4534e70f-09c2-4271-93e2-99bf4b54d455",
   "metadata": {
    "ExecuteTime": {
     "end_time": "2024-01-09T22:29:27.041484500Z",
     "start_time": "2024-01-09T22:29:26.983890800Z"
    }
   },
   "outputs": [
    {
     "name": "stdout",
     "output_type": "stream",
     "text": [
      "Data Types:\n"
     ]
    },
    {
     "data": {
      "text/plain": "Question_id     int64\nQuestion       object\nAnswer         object\nscore           int64\ndtype: object"
     },
     "execution_count": 19,
     "metadata": {},
     "output_type": "execute_result"
    }
   ],
   "source": [
    "print(\"Data Types:\"); df.dtypes"
   ]
  },
  {
   "cell_type": "code",
   "execution_count": 20,
   "id": "cc019e3f-5d03-4584-899c-9f4341f0ae15",
   "metadata": {
    "ExecuteTime": {
     "end_time": "2024-01-09T22:29:27.971631100Z",
     "start_time": "2024-01-09T22:29:27.919630700Z"
    }
   },
   "outputs": [
    {
     "name": "stdout",
     "output_type": "stream",
     "text": [
      "The number of rows is: 320\n",
      "The number of unique questions is: 8\n"
     ]
    }
   ],
   "source": [
    "print(\"The number of rows is:\", len(df))\n",
    "question_len = len(df['Question'].unique())\n",
    "print(\"The number of unique questions is:\", question_len)"
   ]
  },
  {
   "cell_type": "code",
   "execution_count": 21,
   "id": "c3c2fe78-4d81-4983-8b0d-f1f207348fd3",
   "metadata": {
    "ExecuteTime": {
     "end_time": "2024-01-09T22:29:28.833454200Z",
     "start_time": "2024-01-09T22:29:28.792199100Z"
    }
   },
   "outputs": [
    {
     "name": "stdout",
     "output_type": "stream",
     "text": [
      "Summary Statistics:\n"
     ]
    },
    {
     "data": {
      "text/plain": "count    320.000000\nmean       0.500000\nstd        0.500783\nmin        0.000000\n25%        0.000000\n50%        0.500000\n75%        1.000000\nmax        1.000000\nName: score, dtype: float64"
     },
     "execution_count": 21,
     "metadata": {},
     "output_type": "execute_result"
    }
   ],
   "source": [
    "print(\"Summary Statistics:\"); df['score'].describe()"
   ]
  },
  {
   "cell_type": "code",
   "execution_count": 22,
   "id": "d37735b3-0b12-4902-a160-3a71afdcfc4d",
   "metadata": {
    "ExecuteTime": {
     "end_time": "2024-01-09T22:29:29.795745Z",
     "start_time": "2024-01-09T22:29:29.697754900Z"
    }
   },
   "outputs": [
    {
     "name": "stdout",
     "output_type": "stream",
     "text": [
      "Data info:\n",
      "<class 'pandas.core.frame.DataFrame'>\n",
      "RangeIndex: 320 entries, 0 to 319\n",
      "Data columns (total 4 columns):\n",
      " #   Column       Non-Null Count  Dtype \n",
      "---  ------       --------------  ----- \n",
      " 0   Question_id  320 non-null    int64 \n",
      " 1   Question     320 non-null    object\n",
      " 2   Answer       320 non-null    object\n",
      " 3   score        320 non-null    int64 \n",
      "dtypes: int64(2), object(2)\n",
      "memory usage: 10.1+ KB\n"
     ]
    }
   ],
   "source": [
    "print(\"Data info:\"); df.info()"
   ]
  },
  {
   "cell_type": "code",
   "execution_count": 23,
   "id": "9ebbe2c0-393a-40ef-b445-44359cc0d08d",
   "metadata": {
    "ExecuteTime": {
     "end_time": "2024-01-09T22:29:30.601681900Z",
     "start_time": "2024-01-09T22:29:30.462303200Z"
    }
   },
   "outputs": [
    {
     "name": "stdout",
     "output_type": "stream",
     "text": [
      "Missing Values:\n",
      "Question_id    0\n",
      "Question       0\n",
      "Answer         0\n",
      "score          0\n",
      "dtype: int64\n",
      "\n",
      "Duplicated Values: 0\n"
     ]
    }
   ],
   "source": [
    "print(\"Missing Values:\") \n",
    "print(df.isnull().sum())\n",
    "print(\"\\nDuplicated Values:\", df.duplicated().sum())"
   ]
  },
  {
   "cell_type": "code",
   "execution_count": 24,
   "id": "78c705a2-aab8-4011-b8e5-f867d57e8f15",
   "metadata": {
    "ExecuteTime": {
     "end_time": "2024-01-09T22:29:31.292591100Z",
     "start_time": "2024-01-09T22:29:31.250591200Z"
    }
   },
   "outputs": [
    {
     "data": {
      "text/plain": "score\n1    160\n0    160\nName: count, dtype: int64"
     },
     "execution_count": 24,
     "metadata": {},
     "output_type": "execute_result"
    }
   ],
   "source": [
    "df['score'].value_counts()"
   ]
  },
  {
   "cell_type": "code",
   "execution_count": 25,
   "id": "e9e31642-e019-4021-a725-b5f6d3edb326",
   "metadata": {
    "ExecuteTime": {
     "end_time": "2024-01-09T22:29:33.235489500Z",
     "start_time": "2024-01-09T22:29:32.644852300Z"
    }
   },
   "outputs": [
    {
     "data": {
      "text/plain": "<Figure size 400x300 with 1 Axes>",
      "image/png": "[encoded data removed]"
     },
     "metadata": {},
     "output_type": "display_data"
    }
   ],
   "source": [
    "plt.figure(figsize=(4, 3))\n",
    "seaborn.histplot(data=df, x='score', bins=10, kde=True)\n",
    "plt.title('Distribution of Scores')\n",
    "plt.xlabel('Score')\n",
    "plt.ylabel('Frequency')\n",
    "plt.show()"
   ]
  },
  {
   "cell_type": "code",
   "execution_count": 26,
   "id": "bd21ad3d-ca93-4a8a-b9d5-cf73aa793d58",
   "metadata": {
    "ExecuteTime": {
     "end_time": "2024-01-09T22:29:33.941699500Z",
     "start_time": "2024-01-09T22:29:33.853389300Z"
    }
   },
   "outputs": [
    {
     "name": "stdout",
     "output_type": "stream",
     "text": [
      "Average Answer Length (Characters): {average_answer_length_chars}\n",
      "Average Answer Length (Words): {average_answer_length_words}\n"
     ]
    }
   ],
   "source": [
    "answer_tokens = df['Answer'].apply(word_tokenize)\n",
    "\n",
    "average_answer_length_chars = df['Answer'].apply(len).mean()\n",
    "average_answer_length_words = answer_tokens.apply(len).mean()\n",
    "\n",
    "print(\"Average Answer Length (Characters): {average_answer_length_chars}\")\n",
    "print(\"Average Answer Length (Words): {average_answer_length_words}\")"
   ]
  },
  {
   "cell_type": "code",
   "execution_count": 27,
   "id": "f59df2fc-8fc3-4618-9423-929ac6dd9982",
   "metadata": {
    "ExecuteTime": {
     "end_time": "2024-01-09T22:29:34.712476Z",
     "start_time": "2024-01-09T22:29:34.643345100Z"
    }
   },
   "outputs": [
    {
     "name": "stdout",
     "output_type": "stream",
     "text": [
      "Answer Word Frequency:\n",
      ".         304\n",
      "في        229\n",
      "من        115\n",
      "الله       90\n",
      "أو         80\n",
      "الوضوء     77\n",
      "الزواج     60\n",
      "كان        54\n",
      "لا         50\n",
      "المرأة     47\n",
      "Name: count, dtype: int64\n"
     ]
    }
   ],
   "source": [
    "# Word Frequency Analysis For Answer\n",
    "answer_words = [word for tokens in answer_tokens for word in tokens]\n",
    "answer_word_freq = pd.Series(answer_words).value_counts()\n",
    "print(\"Answer Word Frequency:\")\n",
    "print(answer_word_freq.head(10))  # Display top 10 frequent words in answers"
   ]
  },
  {
   "cell_type": "code",
   "execution_count": 28,
   "id": "293b2ffc-09f7-4536-af99-2f106e2d3d3b",
   "metadata": {
    "ExecuteTime": {
     "end_time": "2024-01-09T22:29:36.297670500Z",
     "start_time": "2024-01-09T22:29:35.348659500Z"
    }
   },
   "outputs": [],
   "source": [
    "# Download NLTK resources (if not downloaded)\n",
    "'''\n",
    "import nltk\n",
    "nltk.download('punkt')\n",
    "nltk.download('stopwords')\n",
    "nltk.download('wordnet')\n",
    "'''\n",
    "\n",
    "# Function to remove Arabic diacritics\n",
    "def remove_arabic_diacritics(text):\n",
    "    pattern = re.compile(r'[\\u0617-\\u061A\\u064B-\\u0652]')\n",
    "    text_without_diacritics = re.sub(pattern, '', text)\n",
    "    text_normalized = unicodedata.normalize('NFKD', text_without_diacritics)\n",
    "    return text_normalized\n",
    "\n",
    "# Function to remove punctuations\n",
    "def remove_punctuations(text):\n",
    "    text = text.translate(str.maketrans('', '', string.punctuation))\n",
    "    text = text.replace('،', '')\n",
    "    text = text.replace('؛', '')\n",
    "    text = text.replace('؟', '')\n",
    "    return text\n",
    "\n",
    "# Text Cleaning Functions\n",
    "def remove_stop_words(tokens):\n",
    "    stop_words = set(stopwords.words('arabic'))\n",
    "    cleaned_tokens = [word for word in tokens if word not in stop_words]\n",
    "    return cleaned_tokens\n",
    "\n",
    "def stemming(tokens):\n",
    "    stemmer = PorterStemmer()\n",
    "    return [stemmer.stem(word) for word in tokens]\n",
    "\n",
    "def lemmatization(tokens):\n",
    "    lemmatizer = WordNetLemmatizer()\n",
    "    return [lemmatizer.lemmatize(word) for word in tokens]\n",
    "\n",
    "# Cleaning Pipeline\n",
    "def nlp_pipeline(answer):\n",
    "    answer = remove_arabic_diacritics(answer)\n",
    "    answer = remove_punctuations(answer)\n",
    "    answer_tokens = word_tokenize(answer)\n",
    "    answer_tokens_without_stop_words = remove_stop_words(answer_tokens)\n",
    "    answer_stemming_tokens = stemming(answer_tokens)\n",
    "    answer_lemma_tokens = lemmatization(answer_tokens)\n",
    "\n",
    "    return ' '.join(answer_tokens)\n",
    "\n",
    "df['Answer_Cleaned'] = df['Answer'].apply(nlp_pipeline)"
   ]
  },
  {
   "cell_type": "code",
   "execution_count": 29,
   "id": "a2b5b319-39e6-4721-92ab-852f46c48cee",
   "metadata": {
    "ExecuteTime": {
     "end_time": "2024-01-09T22:29:36.407660Z",
     "start_time": "2024-01-09T22:29:36.279608800Z"
    }
   },
   "outputs": [
    {
     "data": {
      "text/plain": "     Question_id                                    Question  \\\n315            8  من هو أوّل خلق الله تبارك وتعالى من البشر؟   \n316            8  من هو أوّل خلق الله تبارك وتعالى من البشر؟   \n317            8  من هو أوّل خلق الله تبارك وتعالى من البشر؟   \n318            8  من هو أوّل خلق الله تبارك وتعالى من البشر؟   \n319            8  من هو أوّل خلق الله تبارك وتعالى من البشر؟   \n\n                                                Answer  score  \\\n315  القلم، ففي بعض الروايات الإسلامية يُعتقد أن ال...      0   \n316  العرش، حيث يقول بعض الفقهاء أن الله خلق العرش ...      0   \n317  النور، فهناك اعتقادات تفيد بأن الله خلق النور ...      0   \n318        الملائكة كانوا من أوّل ما خلقهم الله تعالى.      0   \n319  النبي نوح عليه السلام كان أوّل خلق الله من البشر.      0   \n\n                                        Answer_Cleaned  \n315  القلم ففي بعض الروايات الإسلامية يعتقد أن ال...  \n316  العرش حيث يقول بعض الفقهاء أن الله خلق العرش ...  \n317  النور فهناك اعتقادات تفيد بأن الله خلق النور ...  \n318        الملائكة كانوا من أول ما خلقهم الله تعالى  \n319   النبي نوح عليه السلام كان أول خلق الله من البشر  ",
      "text/html": "<div>\n<style scoped>\n    .dataframe tbody tr th:only-of-type {\n        vertical-align: middle;\n    }\n\n    .dataframe tbody tr th {\n        vertical-align: top;\n    }\n\n    .dataframe thead th {\n        text-align: right;\n    }\n</style>\n<table border=\"1\" class=\"dataframe\">\n  <thead>\n    <tr style=\"text-align: right;\">\n      <th></th>\n      <th>Question_id</th>\n      <th>Question</th>\n      <th>Answer</th>\n      <th>score</th>\n      <th>Answer_Cleaned</th>\n    </tr>\n  </thead>\n  <tbody>\n    <tr>\n      <th>315</th>\n      <td>8</td>\n      <td>من هو أوّل خلق الله تبارك وتعالى من البشر؟</td>\n      <td>القلم، ففي بعض الروايات الإسلامية يُعتقد أن ال...</td>\n      <td>0</td>\n      <td>القلم ففي بعض الروايات الإسلامية يعتقد أن ال...</td>\n    </tr>\n    <tr>\n      <th>316</th>\n      <td>8</td>\n      <td>من هو أوّل خلق الله تبارك وتعالى من البشر؟</td>\n      <td>العرش، حيث يقول بعض الفقهاء أن الله خلق العرش ...</td>\n      <td>0</td>\n      <td>العرش حيث يقول بعض الفقهاء أن الله خلق العرش ...</td>\n    </tr>\n    <tr>\n      <th>317</th>\n      <td>8</td>\n      <td>من هو أوّل خلق الله تبارك وتعالى من البشر؟</td>\n      <td>النور، فهناك اعتقادات تفيد بأن الله خلق النور ...</td>\n      <td>0</td>\n      <td>النور فهناك اعتقادات تفيد بأن الله خلق النور ...</td>\n    </tr>\n    <tr>\n      <th>318</th>\n      <td>8</td>\n      <td>من هو أوّل خلق الله تبارك وتعالى من البشر؟</td>\n      <td>الملائكة كانوا من أوّل ما خلقهم الله تعالى.</td>\n      <td>0</td>\n      <td>الملائكة كانوا من أول ما خلقهم الله تعالى</td>\n    </tr>\n    <tr>\n      <th>319</th>\n      <td>8</td>\n      <td>من هو أوّل خلق الله تبارك وتعالى من البشر؟</td>\n      <td>النبي نوح عليه السلام كان أوّل خلق الله من البشر.</td>\n      <td>0</td>\n      <td>النبي نوح عليه السلام كان أول خلق الله من البشر</td>\n    </tr>\n  </tbody>\n</table>\n</div>"
     },
     "execution_count": 29,
     "metadata": {},
     "output_type": "execute_result"
    }
   ],
   "source": [
    "df.tail()"
   ]
  },
  {
   "cell_type": "code",
   "execution_count": 30,
   "id": "cfee24c7-47dd-434b-8307-075e7ece06ee",
   "metadata": {
    "ExecuteTime": {
     "end_time": "2024-01-09T22:29:37.730990200Z",
     "start_time": "2024-01-09T22:29:37.677991900Z"
    }
   },
   "outputs": [
    {
     "name": "stdout",
     "output_type": "stream",
     "text": [
      "TF-IDF scores for the question:\n",
      "[0.34749189515804174, 0.22038927527014232, 0.3392217335029757, 0.29121560348474873, 0.39108944790912226, 0.36150559332415616, 0.21577466826269356, 0.25671654696612106, 0.3667018127641514, 0.21577466826269356, 0.24202187864281055, 0, 0, 0, 0, 0, 0, 0, 0, 0, 0, 0, 0, 0, 0, 0, 0, 0, 0, 0, 0, 0, 0, 0, 0, 0, 0, 0, 0, 0, 0, 0, 0, 0, 0, 0, 0, 0, 0, 0, 0, 0, 0, 0, 0, 0, 0, 0, 0, 0, 0, 0, 0, 0, 0, 0, 0, 0, 0, 0, 0, 0, 0, 0, 0, 0, 0, 0, 0, 0, 0, 0, 0, 0, 0, 0, 0, 0, 0, 0, 0, 0, 0, 0, 0, 0, 0, 0, 0, 0, 0, 0, 0, 0, 0, 0, 0, 0, 0, 0, 0, 0, 0, 0, 0, 0, 0, 0, 0, 0, 0, 0]\n"
     ]
    }
   ],
   "source": [
    "def tf(answer):\n",
    "    words = word_tokenize(answer)\n",
    "    word_counts = Counter(words)\n",
    "    total_words = len(words)\n",
    "    tf_scores = {word: count / total_words for word, count in word_counts.items()}\n",
    "    return tf_scores\n",
    "\n",
    "def idf(documents, word):\n",
    "    num_documents = len(documents)\n",
    "    num_docs_with_word = sum(1 for doc in documents if word in doc)\n",
    "    return math.log(num_documents / (1 + num_docs_with_word))\n",
    "\n",
    "def get_tf_idf(answer, documents):\n",
    "    longest_document_length = len(max(documents, key=len))\n",
    "    words = word_tokenize(answer)\n",
    "    idf_scores = {word: idf(documents, word) for word in set(words)}\n",
    "    tf_scores = tf(answer)\n",
    "    tfidf_scores = [tf_scores[word] * idf_scores[word] for word in words]\n",
    "    \n",
    "    # Fill tfidf_scores with zeros until it reaches the length of the longest document\n",
    "    while len(tfidf_scores) < longest_document_length:\n",
    "        tfidf_scores.append(0)\n",
    "    \n",
    "    return tfidf_scores\n",
    "\n",
    "answer = 'آدم عليه السلام وحواء زوجته كانا من أول الخلق من البشر'\n",
    "questions = df['Question'].values.tolist()\n",
    "answers = df['Answer'].values.tolist()\n",
    "cleaned_answers = df['Answer_Cleaned'].values.tolist()\n",
    "documents = questions + answers + cleaned_answers\n",
    "# Calculate TF-IDF for the question and corpus\n",
    "tfidf_result = get_tf_idf(answer, documents)\n",
    "print(\"TF-IDF scores for the question:\")\n",
    "print(tfidf_result)\n"
   ]
  },
  {
   "cell_type": "code",
   "execution_count": 31,
   "id": "413a2064-ba67-4bf8-b96c-24dbe4dcbb2b",
   "metadata": {
    "scrolled": true,
    "ExecuteTime": {
     "end_time": "2024-01-09T22:29:41.194839600Z",
     "start_time": "2024-01-09T22:29:38.752881500Z"
    }
   },
   "outputs": [
    {
     "name": "stdout",
     "output_type": "stream",
     "text": [
      "The First (Cleaned) Answer is: في القرآن الكريم توجد علامات السجود في عدة مواضع تبلغ 15 موضعا مختلفا\n",
      "Words Encoding Vector for The First Answer using TF-IDF Encoding:\n",
      " [0.08319750943181274, 0.2504627209090506, 0.18648323292088964, 0.443716999676444, 0.254737324844036, 0.2354054457455048, 0.08319750943181274, 0.20952296600541148, 0.2145689108120125, 0.404422720925214, 0.2425662475198134, 0.29778469314676087, 0.3785402411851207, 0, 0, 0, 0, 0, 0, 0, 0, 0, 0, 0, 0, 0, 0, 0, 0, 0, 0, 0, 0, 0, 0, 0, 0, 0, 0, 0, 0, 0, 0, 0, 0, 0, 0, 0, 0, 0, 0, 0, 0, 0, 0, 0, 0, 0, 0, 0, 0, 0, 0, 0, 0, 0, 0, 0, 0, 0, 0, 0, 0, 0, 0, 0, 0, 0, 0, 0, 0, 0, 0, 0, 0, 0, 0, 0, 0, 0, 0, 0, 0, 0, 0, 0, 0, 0, 0, 0, 0, 0, 0, 0, 0, 0, 0, 0, 0, 0, 0, 0, 0, 0, 0, 0, 0, 0, 0, 0, 0, 0]\n",
      "\n",
      "Word Embedding Vector for The First Answer using Word2Vec Embeddings:\n",
      " [ 0.00345031  0.10640453 -0.02090367  0.05746676 -0.04216323 -0.18501513\n",
      "  0.12957141  0.34526962  0.01119743 -0.05115279]\n",
      "\n",
      "Word Embedding Vector for The First Answer using FastText Embeddings:\n",
      " [-0.06487769 -0.05704996 -0.01513671 -0.12799057  0.12952107  0.11444084\n",
      "  0.15485461  0.182233    0.09770624 -0.00272946]\n"
     ]
    }
   ],
   "source": [
    "sentences = [word_tokenize(answer) for answer in df['Answer_Cleaned']]\n",
    "\n",
    "word2vec_model = Word2Vec(sentences=sentences, vector_size=300, window=5, min_count=1, workers=4)\n",
    "word2vec_model.train(sentences, total_examples=len(sentences), epochs=10)\n",
    "word_embeddings = word2vec_model.wv\n",
    "\n",
    "# Load FastText vectors for Arabic language\n",
    "fastText_vectors = FastText(language=\"ar\")\n",
    "# Define TorchText Field\n",
    "text_field = Field(lower=False)  # Keeping the original case for Arabic text\n",
    "# Define fields for Dataset\n",
    "fields = [('Answer', text_field)]\n",
    "# Prepare examples and create a TorchText dataset\n",
    "examples = [Example.fromlist([answer_tokens], fields) for answer_tokens in sentences]\n",
    "dataset = ttDataset(examples, fields) # Dataset from torchText\n",
    "# Build vocabulary using FastText embeddings\n",
    "text_field.build_vocab(dataset, vectors=fastText_vectors)\n",
    "\n",
    "def get_word2vec_representation(word_embeddings, answer):\n",
    "    sentence = word_tokenize(answer)\n",
    "    word_vectors = [word_embeddings[word] for word in sentence if word in word_embeddings]\n",
    "    if len(word_vectors) > 0:\n",
    "        return np.mean(word_vectors, axis=0)\n",
    "    else:\n",
    "        return np.zeros(300)  # Return zero vector if none of the words are in the vocabulary\n",
    "\n",
    "# FastText vectors\n",
    "def get_fastText_representation(answer):\n",
    "    # Process the sentence and obtain embeddings\n",
    "    sentences = word_tokenize(answer)\n",
    "    word_vectors = [text_field.vocab.vectors[text_field.vocab.stoi[word]] for word in sentences if word in text_field.vocab.stoi]\n",
    "    # Compute the mean vector of word embeddings\n",
    "    if len(word_vectors) > 0:\n",
    "        return np.mean(word_vectors, axis=0)\n",
    "    else:\n",
    "        return np.zeros(300)  # Return zero vector if none of the words are in the vocabulary\n",
    "\n",
    "# Example usage of TF-IDF encoding\n",
    "first_answer = df['Answer_Cleaned'][0]\n",
    "print(\"The First (Cleaned) Answer is:\", first_answer)\n",
    "print(\"Words Encoding Vector for The First Answer using TF-IDF Encoding:\\n\", get_tf_idf(first_answer, documents))\n",
    "\n",
    "# Example usage of Word2Vec embeddings\n",
    "print(\"\\nWord Embedding Vector for The First Answer using Word2Vec Embeddings:\\n\", get_word2vec_representation(word_embeddings, first_answer)[:10])\n",
    "\n",
    "# Example usage of FastText embeddings\n",
    "print(\"\\nWord Embedding Vector for The First Answer using FastText Embeddings:\\n\", get_fastText_representation(first_answer)[:10])\n"
   ]
  },
  {
   "cell_type": "code",
   "execution_count": 32,
   "id": "69f04d27-add3-4abe-9bef-8d27381559f3",
   "metadata": {
    "ExecuteTime": {
     "end_time": "2024-01-09T22:29:44.111538300Z",
     "start_time": "2024-01-09T22:29:44.065450700Z"
    }
   },
   "outputs": [
    {
     "name": "stdout",
     "output_type": "stream",
     "text": [
      "Length of each word for Word2Vec embeddings Vector: 300\n",
      "Length of each word for FastText embeddings Vector: 300\n"
     ]
    }
   ],
   "source": [
    "# Display shapes and lengths\n",
    "print(\"Length of each word for Word2Vec embeddings Vector:\", len(get_word2vec_representation(word_embeddings, first_answer)))\n",
    "print(\"Length of each word for FastText embeddings Vector:\", len(get_fastText_representation(first_answer)))"
   ]
  },
  {
   "cell_type": "code",
   "execution_count": 33,
   "id": "13cde3a1-2312-42ad-8f8a-5c02e0d9684c",
   "metadata": {
    "ExecuteTime": {
     "end_time": "2024-01-09T22:29:45.162774400Z",
     "start_time": "2024-01-09T22:29:45.097776100Z"
    }
   },
   "outputs": [
    {
     "name": "stdout",
     "output_type": "stream",
     "text": [
      "TF-IDF Representation of The First (Cleaned) Answer:\n",
      " [0.08319750943181274, 0.2504627209090506, 0.18648323292088964, 0.443716999676444, 0.254737324844036, 0.2354054457455048, 0.08319750943181274, 0.20952296600541148, 0.2145689108120125, 0.404422720925214, 0.2425662475198134, 0.29778469314676087, 0.3785402411851207, 0, 0, 0, 0, 0, 0, 0, 0, 0, 0, 0, 0, 0, 0, 0, 0, 0, 0, 0, 0, 0, 0, 0, 0, 0, 0, 0, 0, 0, 0, 0, 0, 0, 0, 0, 0, 0, 0, 0, 0, 0, 0, 0, 0, 0, 0, 0, 0, 0, 0, 0, 0, 0, 0, 0, 0, 0, 0, 0, 0, 0, 0, 0, 0, 0, 0, 0, 0, 0, 0, 0, 0, 0, 0, 0, 0, 0, 0, 0, 0, 0, 0, 0, 0, 0, 0, 0, 0, 0, 0, 0, 0, 0, 0, 0, 0, 0, 0, 0, 0, 0, 0, 0, 0, 0, 0, 0, 0, 0]\n",
      "\n",
      "Word2Vec Representation of The First (Cleaned) Answer:\n",
      " [ 3.45031009e-03  1.06404528e-01 -2.09036693e-02  5.74667603e-02\n",
      " -4.21632268e-02 -1.85015127e-01  1.29571408e-01  3.45269620e-01\n",
      "  1.11974282e-02 -5.11527918e-02  2.95601003e-02 -7.28471130e-02\n",
      " -3.66357751e-02 -7.65798464e-02 -7.88749382e-02 -5.51934615e-02\n",
      "  4.99908514e-02  3.01968046e-02  1.34062022e-02 -1.24404714e-01\n",
      " -4.50681411e-02  5.02735190e-03  1.17170490e-01  1.71735901e-02\n",
      "  9.00348052e-02  4.48339656e-02 -1.74537569e-01 -2.91968584e-02\n",
      " -1.04411073e-01 -1.19896136e-01  4.56678793e-02 -4.42990698e-02\n",
      "  3.15460339e-02 -1.34039976e-04 -2.14254186e-02  1.22281238e-01\n",
      "  8.32986534e-02 -1.93038136e-01 -1.21466313e-02 -1.32950200e-02\n",
      " -7.61082098e-02  2.93631721e-02  2.47402694e-02 -9.51907188e-02\n",
      "  1.18924499e-01  1.76074207e-01  5.45863109e-03  7.88326710e-02\n",
      " -2.54056677e-02  1.50703520e-01  4.65538688e-02  3.36067528e-02\n",
      " -6.87138066e-02  3.60439606e-02 -3.19520235e-02  1.76303238e-01\n",
      "  6.51382282e-02  1.34307910e-02  2.43304931e-02 -9.23627242e-03\n",
      " -8.29845741e-02 -5.45711070e-02 -5.74117154e-02  6.22047968e-02\n",
      "  6.53651950e-05  1.25733614e-01  1.55742904e-02  8.56104717e-02\n",
      " -9.43129882e-02 -4.73007746e-02  7.72486674e-03  8.16626474e-02\n",
      "  1.49880946e-01 -9.24133956e-02  2.53766701e-02  6.66510984e-02\n",
      " -1.01718783e-01  2.56165094e-03 -2.83471867e-02  1.14706345e-01\n",
      " -6.20326810e-02 -1.16201319e-01  1.96149219e-02  2.83212870e-01\n",
      "  8.00292566e-02  7.00626895e-02 -1.59530677e-02  1.67583465e-03\n",
      "  1.30956680e-01  4.78187725e-02  1.39896020e-01 -8.62070993e-02\n",
      "  5.37511557e-02  3.50532979e-02  1.01898760e-01  1.25881091e-01\n",
      "  1.06243961e-01 -9.11497250e-02 -7.41819441e-02  1.16090626e-01\n",
      " -7.74864331e-02 -3.28660943e-02  7.75342137e-02 -6.21525710e-03\n",
      "  3.65649164e-02 -1.00142553e-01  1.37728136e-02  5.10287564e-03\n",
      " -1.02949105e-01  9.03332978e-02 -1.19178407e-01 -2.06144266e-02\n",
      " -2.55632792e-02  1.10880926e-01  9.03252810e-02  6.53385147e-02\n",
      " -6.22058846e-02  1.27862627e-02  1.69028580e-01 -1.75929487e-01\n",
      "  3.59188989e-02  1.12900101e-01  1.21836156e-01  2.11358052e-02\n",
      " -3.07590868e-02  2.95552928e-02  3.35787460e-02 -1.65561616e-01\n",
      "  8.34069587e-03  9.58762541e-02  1.20497614e-01  1.34906501e-01\n",
      "  4.78436388e-02 -9.16505307e-02  6.03330694e-02  5.87069839e-02\n",
      " -1.30910315e-02  4.68118815e-03 -1.01245120e-01 -1.50742039e-01\n",
      "  3.81589234e-02 -1.95408136e-01 -3.91123220e-02  9.53157023e-02\n",
      "  5.06736301e-02 -6.45818040e-02 -1.26811177e-01 -2.88408604e-02\n",
      "  1.30579367e-01 -1.20201550e-01  2.10367851e-02 -2.01898485e-01\n",
      " -1.24763623e-01 -4.08486500e-02 -1.93144679e-02  8.94944593e-02\n",
      " -1.09545827e-01 -5.27307130e-02 -4.01719064e-02  1.69481829e-01\n",
      "  9.18331649e-03  1.07654929e-01 -1.63194925e-01  8.79970640e-02\n",
      " -1.20566264e-01  2.59976350e-02  1.95343625e-02  6.01613754e-03\n",
      " -8.76625534e-03  2.50983745e-01 -1.00173049e-01  4.95066401e-03\n",
      "  6.24828003e-02  7.46989101e-02  4.13397234e-03  1.00117875e-02\n",
      " -2.20219661e-02 -2.17512593e-01  2.41786353e-02 -3.76553796e-02\n",
      " -3.09084319e-02  1.05275556e-01 -8.75625461e-02 -6.53005019e-02\n",
      " -1.52160889e-02  3.64255682e-02  1.74601793e-01  1.85209438e-01\n",
      "  4.50311564e-02 -1.17044970e-01  2.70196199e-02  8.53526965e-03\n",
      " -1.80132627e-01  1.97931286e-03  5.82708195e-02 -6.97789118e-02\n",
      "  4.75173257e-02 -1.38946041e-01  3.63109261e-02  4.49965335e-03\n",
      " -1.25293046e-01  8.78776014e-02 -3.78172137e-02 -6.87657818e-02\n",
      "  7.89454952e-03 -2.59124618e-02 -5.02292737e-02  5.34169264e-02\n",
      " -2.60387044e-02  7.23800622e-03 -1.87649243e-02 -1.18396357e-01\n",
      " -5.42859659e-02 -7.36851543e-02  3.29925045e-02 -1.31632313e-01\n",
      " -5.03383204e-02 -2.43187994e-01 -1.86968789e-01 -8.59382153e-02\n",
      "  9.62297544e-02  5.69270775e-02 -1.19573273e-01 -9.70165581e-02\n",
      " -2.69662533e-02 -5.89324608e-02  2.20422447e-02 -2.99344324e-02\n",
      " -1.29853368e-01  1.21846922e-01  8.21729451e-02 -9.09880735e-03\n",
      " -9.91995782e-02  1.02265321e-01 -1.17788874e-01  4.59475778e-02\n",
      "  6.35036873e-03  1.35089625e-02  3.85162979e-02 -2.57155329e-01\n",
      "  5.06657362e-02  1.61232799e-03 -6.13889955e-02  2.77149696e-02\n",
      "  4.48945127e-02 -1.15849219e-01  1.33970175e-02 -2.39583421e-02\n",
      "  3.61559098e-04  7.23334104e-02  6.70521259e-02 -2.98506347e-03\n",
      "  3.37062627e-02 -1.39624327e-02 -2.04291955e-01 -1.04814887e-01\n",
      "  1.67414039e-01  6.08184282e-03 -2.20469728e-01 -1.09720431e-01\n",
      "  4.15428355e-02  1.61708996e-01  5.44195771e-02 -2.57322729e-01\n",
      " -1.42312512e-01 -2.94627622e-02  3.25060710e-02  6.52297884e-02\n",
      " -1.29681200e-01 -2.27452610e-02 -9.66585129e-02  3.94438729e-02\n",
      "  3.34489867e-02 -4.16583084e-02  1.71469629e-01  8.13228339e-02\n",
      "  1.22068256e-01  3.83694991e-02 -1.65308073e-01 -2.21280232e-02\n",
      "  7.74488822e-02 -6.11139946e-02  6.86247833e-04  6.03984371e-02\n",
      "  4.31264378e-03 -4.89655957e-02 -2.01691613e-01 -4.79597307e-04\n",
      "  1.42280459e-02  1.06468663e-01  4.49801516e-03  2.19104752e-01\n",
      "  1.02827631e-01  1.42952474e-03  1.90586299e-01  2.46407360e-01\n",
      "  2.01650579e-02 -4.06415872e-02  1.17223017e-01 -1.42472088e-02]\n",
      "\n",
      "FastText Representation of The First (Cleaned) Answer:\n",
      " [-6.48776889e-02 -5.70499562e-02 -1.51367132e-02 -1.27990574e-01\n",
      "  1.29521072e-01  1.14440843e-01  1.54854611e-01  1.82233006e-01\n",
      "  9.77062359e-02 -2.72946223e-03 -6.57221526e-02 -9.68708005e-03\n",
      "  5.63486144e-02  1.42859854e-02  1.16542146e-01  1.36743367e-01\n",
      "  8.35830793e-02 -1.35642309e-02  9.04165115e-03 -9.84123051e-02\n",
      "  6.60042316e-02  7.23095387e-02 -8.99953097e-02 -1.46131068e-01\n",
      "  1.45289242e-01  1.74184904e-01 -1.11418843e-01 -3.90890837e-02\n",
      " -1.01147085e-01  9.30961594e-03 -1.86576918e-02 -3.78283486e-02\n",
      "  1.42606765e-01 -6.60099238e-02  3.63922736e-04 -7.23003894e-02\n",
      " -1.92209825e-01 -2.48470325e-02 -1.98117554e-01  3.43374647e-02\n",
      "  1.08626470e-01  1.87938139e-01 -6.56841546e-02 -7.69581273e-02\n",
      "  5.76469302e-03 -2.12215595e-02  1.45635679e-01 -3.71360555e-02\n",
      " -1.93677694e-01  1.51990563e-01 -3.75423841e-02  4.38406914e-02\n",
      " -1.01234622e-01  1.94964275e-01 -7.26892501e-02  9.85238403e-02\n",
      " -1.48487374e-01  2.61625022e-01  5.39357699e-02  1.80635840e-01\n",
      "  4.90593053e-02 -5.55479974e-02 -3.09523702e-01 -2.61055417e-02\n",
      "  3.72076184e-02 -5.02459258e-02  5.02298437e-02  1.50566995e-01\n",
      " -1.18225534e-02  2.00017139e-01 -5.79162836e-02  1.36207847e-03\n",
      "  7.44590759e-02  3.43995132e-02 -6.71156794e-02  1.96076840e-01\n",
      " -4.31705154e-02 -1.17682844e-01  7.01258630e-02  1.41259998e-01\n",
      " -4.83831614e-02 -1.06466882e-01  1.68714702e-01  2.40270812e-02\n",
      " -2.36879513e-02  1.21322580e-01 -1.79112375e-01 -4.43901941e-02\n",
      " -2.97761559e-02 -4.75633815e-02  1.01589128e-01 -1.17741572e-02\n",
      " -9.19082314e-02 -1.55547768e-01 -9.42732170e-02 -1.48091257e-01\n",
      "  6.16102293e-02  1.72944620e-01 -4.24233760e-04 -1.69325098e-01\n",
      "  1.55717000e-01 -1.11643232e-01 -1.97149605e-01  1.04901586e-02\n",
      " -7.74989203e-02  2.07866848e-01 -1.76220551e-01  1.26458686e-02\n",
      " -1.25336153e-02 -8.58097896e-02 -1.72218472e-01 -1.41141400e-01\n",
      "  2.83185374e-02  1.05668474e-02 -2.37955358e-02 -9.20878500e-02\n",
      "  4.28783633e-02  5.60123920e-02  2.04121564e-02 -9.61176828e-02\n",
      "  5.71589731e-02 -2.42092293e-02 -1.43008918e-01 -3.07465401e-02\n",
      " -1.43935546e-01 -3.68403569e-02  4.11376804e-02 -4.80449237e-02\n",
      " -1.41785145e-01  9.82593149e-02  1.19771153e-01 -9.74915475e-02\n",
      " -1.97334081e-01 -8.95355418e-02  1.07035689e-01 -1.41438007e-01\n",
      " -9.37963724e-02 -2.57973876e-02  8.28963071e-02 -1.19003385e-01\n",
      " -4.25413847e-02 -1.45397216e-01 -5.11004552e-02 -8.27735197e-03\n",
      " -3.26446146e-02  1.29870018e-02  1.49262086e-01  1.49656162e-01\n",
      "  1.00332931e-01  3.91107723e-02  8.48294124e-02 -1.64149299e-01\n",
      " -1.86983839e-01  7.47697651e-02 -8.40590745e-02  1.27475604e-01\n",
      " -7.14055374e-02  1.81313142e-01 -3.36037651e-02 -8.85014534e-02\n",
      " -8.04883763e-02 -1.82940781e-01  1.22213043e-01  3.97747718e-02\n",
      "  2.34450791e-02 -4.60323095e-02 -1.48388609e-01  2.80259214e-02\n",
      "  2.19288096e-01 -8.77396911e-02  1.18133076e-01 -9.68034640e-02\n",
      "  1.32542148e-01  7.98407756e-03  3.90707664e-02 -2.33094618e-02\n",
      " -5.08631542e-02 -2.55395211e-02 -1.06929697e-01  1.34444773e-01\n",
      "  9.43937600e-02  9.99945477e-02 -1.37353525e-01 -1.03472918e-01\n",
      " -1.16186410e-01  3.43193077e-02 -6.35861559e-03 -3.78636681e-02\n",
      " -9.99420062e-02  8.68093073e-02 -9.75400060e-02  5.48892189e-03\n",
      " -6.92954585e-02 -2.73241531e-02 -1.76683053e-01 -2.61643417e-02\n",
      " -1.74570709e-01  1.26584783e-01 -8.00269693e-02 -4.08150032e-02\n",
      "  9.06178504e-02  2.05675067e-04  1.93267524e-01 -1.54937267e-01\n",
      "  3.15638469e-03  1.56446934e-01 -4.19406109e-02  4.00369987e-02\n",
      " -5.86296879e-02  1.39547335e-02  1.91800017e-02  2.05081515e-02\n",
      "  9.80284214e-02 -2.42706928e-02 -2.87545949e-01  1.04688913e-01\n",
      " -1.59926161e-01 -8.93859193e-02  5.15024588e-02  9.66528505e-02\n",
      "  4.16227654e-02 -4.96263914e-02 -1.34926453e-01 -2.33289152e-01\n",
      "  6.89830855e-02  7.91628286e-02 -2.82388985e-01 -5.84645346e-02\n",
      "  7.23215342e-02 -1.52685687e-01  1.15635008e-01  1.64737999e-01\n",
      "  4.30326089e-02 -2.77930778e-02 -1.57103539e-01  2.56189823e-01\n",
      "  4.17129993e-02 -2.04503223e-01  1.06081381e-01 -4.40480486e-02\n",
      "  5.63559271e-02  1.95056766e-01 -4.98529226e-02 -3.85259204e-02\n",
      "  1.89907998e-01  6.57346053e-03  3.01253912e-03  7.71260336e-02\n",
      " -4.72386926e-02  1.23986535e-01 -1.02206513e-01 -1.42744392e-01\n",
      " -1.65127769e-01 -4.98206168e-02 -9.55737755e-02 -5.83903268e-02\n",
      " -8.08316004e-03 -1.29782543e-01 -1.50145050e-02  4.58930759e-03\n",
      "  4.04292298e-03  3.34033072e-01  1.44230232e-01  1.05225243e-01\n",
      " -1.56914458e-01  2.24034771e-01  6.73743784e-02  1.27523154e-01\n",
      " -2.31801540e-01 -8.82680267e-02 -1.31236017e-02 -1.13357775e-01\n",
      "  1.74503088e-01  1.28917858e-01  4.16553840e-02 -1.31934911e-01\n",
      " -1.10148542e-01  7.75261447e-02  1.84012398e-01 -2.90878452e-02\n",
      "  2.02080995e-01  2.12361533e-02 -5.70679978e-02 -4.59533781e-02\n",
      "  1.45202860e-01  1.55745089e-01  1.24107692e-02  3.47093865e-02\n",
      " -4.14078459e-02 -2.00896170e-02 -7.74105415e-02  1.86555773e-01\n",
      "  3.23103458e-01  1.42549306e-01 -2.80303825e-02 -1.35822624e-01\n",
      " -1.16856083e-01 -9.25530680e-03 -4.06624824e-02  1.13620749e-02]\n",
      "\n",
      "Concatenated TF-IDF and Word2Vec:\n",
      " [ 8.43505729e-02  2.53933972e-01  1.89067769e-01  4.49866629e-01\n",
      "  2.58267819e-01  2.38668012e-01  8.43505729e-02  2.12426818e-01\n",
      "  2.17542697e-01  4.10027757e-01  2.45928058e-01  3.01911796e-01\n",
      "  3.83786563e-01  0.00000000e+00  0.00000000e+00  0.00000000e+00\n",
      "  0.00000000e+00  0.00000000e+00  0.00000000e+00  0.00000000e+00\n",
      "  0.00000000e+00  0.00000000e+00  0.00000000e+00  0.00000000e+00\n",
      "  0.00000000e+00  0.00000000e+00  0.00000000e+00  0.00000000e+00\n",
      "  0.00000000e+00  0.00000000e+00  0.00000000e+00  0.00000000e+00\n",
      "  0.00000000e+00  0.00000000e+00  0.00000000e+00  0.00000000e+00\n",
      "  0.00000000e+00  0.00000000e+00  0.00000000e+00  0.00000000e+00\n",
      "  0.00000000e+00  0.00000000e+00  0.00000000e+00  0.00000000e+00\n",
      "  0.00000000e+00  0.00000000e+00  0.00000000e+00  0.00000000e+00\n",
      "  0.00000000e+00  0.00000000e+00  0.00000000e+00  0.00000000e+00\n",
      "  0.00000000e+00  0.00000000e+00  0.00000000e+00  0.00000000e+00\n",
      "  0.00000000e+00  0.00000000e+00  0.00000000e+00  0.00000000e+00\n",
      "  0.00000000e+00  0.00000000e+00  0.00000000e+00  0.00000000e+00\n",
      "  0.00000000e+00  0.00000000e+00  0.00000000e+00  0.00000000e+00\n",
      "  0.00000000e+00  0.00000000e+00  0.00000000e+00  0.00000000e+00\n",
      "  0.00000000e+00  0.00000000e+00  0.00000000e+00  0.00000000e+00\n",
      "  0.00000000e+00  0.00000000e+00  0.00000000e+00  0.00000000e+00\n",
      "  0.00000000e+00  0.00000000e+00  0.00000000e+00  0.00000000e+00\n",
      "  0.00000000e+00  0.00000000e+00  0.00000000e+00  0.00000000e+00\n",
      "  0.00000000e+00  0.00000000e+00  0.00000000e+00  0.00000000e+00\n",
      "  0.00000000e+00  0.00000000e+00  0.00000000e+00  0.00000000e+00\n",
      "  0.00000000e+00  0.00000000e+00  0.00000000e+00  0.00000000e+00\n",
      "  0.00000000e+00  0.00000000e+00  0.00000000e+00  0.00000000e+00\n",
      "  0.00000000e+00  0.00000000e+00  0.00000000e+00  0.00000000e+00\n",
      "  0.00000000e+00  0.00000000e+00  0.00000000e+00  0.00000000e+00\n",
      "  0.00000000e+00  0.00000000e+00  0.00000000e+00  0.00000000e+00\n",
      "  0.00000000e+00  0.00000000e+00  0.00000000e+00  0.00000000e+00\n",
      "  0.00000000e+00  0.00000000e+00  2.07743724e-03  6.40663356e-02\n",
      " -1.25861336e-02  3.46008278e-02 -2.53865477e-02 -1.11397907e-01\n",
      "  7.80151561e-02  2.07887396e-01  6.74198987e-03 -3.07991784e-02\n",
      "  1.77981835e-02 -4.38613631e-02 -2.20584590e-02 -4.61088493e-02\n",
      " -4.74907272e-02 -3.32320742e-02  3.00995726e-02  1.81815457e-02\n",
      "  8.07189569e-03 -7.49042779e-02 -2.71356013e-02  3.02697672e-03\n",
      "  7.05485418e-02  1.03402464e-02  5.42101003e-02  2.69946028e-02\n",
      " -1.05089352e-01 -1.75794754e-02 -6.28660768e-02 -7.21896589e-02\n",
      "  2.74967048e-02 -2.66725421e-02  1.89939179e-02 -8.07056858e-05\n",
      " -1.29002789e-02  7.36257285e-02  5.01542538e-02 -1.16228573e-01\n",
      " -7.31350621e-03 -8.00495315e-03 -4.58248779e-02  1.76796131e-02\n",
      "  1.48961563e-02 -5.73144853e-02  7.16046318e-02  1.06014565e-01\n",
      "  3.28665064e-03  4.74652797e-02 -1.52967935e-02  9.07388330e-02\n",
      "  2.80301590e-02  2.02346798e-02 -4.13726941e-02  2.17021275e-02\n",
      " -1.92383658e-02  1.06152467e-01  3.92198339e-02  8.08670092e-03\n",
      "  1.46494294e-02 -5.56117436e-03 -4.99651469e-02 -3.28573510e-02\n",
      " -3.45676877e-02  3.74536105e-02  3.93564915e-05  7.57044107e-02\n",
      "  9.37730540e-03  5.15462048e-02 -5.67860045e-02 -2.84798723e-02\n",
      "  4.65115486e-03  4.91692126e-02  9.02435631e-02 -5.56422547e-02\n",
      "  1.52793340e-02  4.01307344e-02 -6.12450428e-02  1.54237414e-03\n",
      " -1.70678869e-02  6.90648779e-02 -3.73499766e-02 -6.99650049e-02\n",
      "  1.18101761e-02  1.70522928e-01  4.81857434e-02  4.21848595e-02\n",
      " -9.60536767e-03  1.00902270e-03  7.88492262e-02  2.87917610e-02\n",
      "  8.42316225e-02 -5.19054346e-02  3.23636569e-02  2.11056471e-02\n",
      "  6.13534078e-02  7.57932067e-02  6.39696643e-02 -5.48813976e-02\n",
      " -4.46650684e-02  6.98983520e-02 -4.66547050e-02 -1.97887290e-02\n",
      "  4.66834754e-02 -3.74221639e-03  2.20157951e-02 -6.02959953e-02\n",
      "  8.29263311e-03  3.07244970e-03 -6.19858243e-02  5.43898232e-02\n",
      " -7.17575103e-02 -1.24119800e-02 -1.53916916e-02  6.67615831e-02\n",
      "  5.43849990e-02  3.93404253e-02 -3.74542624e-02  7.69862952e-03\n",
      "  1.01772383e-01 -1.05927430e-01  2.16268264e-02  6.79773316e-02\n",
      "  7.33577460e-02  1.27259027e-02 -1.85200963e-02  1.77952889e-02\n",
      "  2.02178173e-02 -9.96849164e-02  5.02194650e-03  5.77272475e-02\n",
      "  7.25518093e-02  8.12274218e-02  2.88067330e-02 -5.51829338e-02\n",
      "  3.63266394e-02  3.53475697e-02 -7.88213126e-03  2.81855091e-03\n",
      " -6.09598495e-02 -9.07620266e-02  2.29755491e-02 -1.17655553e-01\n",
      " -2.35495921e-02  5.73897399e-02  3.05106752e-02 -3.88848074e-02\n",
      " -7.63532147e-02 -1.73651278e-02  7.86220506e-02 -7.23735467e-02\n",
      "  1.26662822e-02 -1.21563405e-01 -7.51203820e-02 -2.45950390e-02\n",
      " -1.16292723e-02  5.38847595e-02 -6.59577176e-02 -3.17492485e-02\n",
      " -2.41875704e-02  1.02045283e-01  5.52928960e-03  6.48192093e-02\n",
      " -9.82599258e-02  5.29831760e-02 -7.25931451e-02  1.56532172e-02\n",
      "  1.17616709e-02  3.62232607e-03 -5.27817663e-03  1.51117712e-01\n",
      " -6.03143536e-02  2.98080291e-03  3.76209952e-02  4.49763350e-02\n",
      "  2.48907134e-03  6.02811342e-03 -1.32594611e-02 -1.30964682e-01\n",
      "  1.45579958e-02 -2.26723645e-02 -1.86100174e-02  6.33865818e-02\n",
      " -5.27215526e-02 -3.93175371e-02 -9.16163158e-03  2.19318941e-02\n",
      "  1.05128020e-01  1.11514904e-01  2.71133315e-02 -7.04729632e-02\n",
      "  1.62685569e-02  5.13909990e-03 -1.08458146e-01  1.19174749e-03\n",
      "  3.50849554e-02 -4.20139953e-02  2.86102593e-02 -8.36596340e-02\n",
      "  2.18628682e-02  2.70924857e-03 -7.54391477e-02  5.29112443e-02\n",
      " -2.27698050e-02 -4.14039902e-02  4.75332094e-03 -1.56019349e-02\n",
      " -3.02431267e-02  3.21624167e-02 -1.56779457e-02  4.35801549e-03\n",
      " -1.12983910e-02 -7.12866411e-02 -3.26856673e-02 -4.43659499e-02\n",
      "  1.98648404e-02 -7.92560279e-02 -3.03087849e-02 -1.46423891e-01\n",
      " -1.12574212e-01 -5.17435372e-02  5.79400919e-02  3.42758857e-02\n",
      " -7.19952583e-02 -5.84138259e-02 -1.62364244e-02 -3.54833305e-02\n",
      "  1.32716708e-02 -1.80235710e-02 -7.81849250e-02  7.33642280e-02\n",
      "  4.94764633e-02 -5.47840679e-03 -5.97282276e-02  6.15741163e-02\n",
      " -7.09208697e-02  2.76651103e-02  3.82356718e-03  8.13376810e-03\n",
      "  2.31907256e-02 -1.54833645e-01  3.05059217e-02  9.70785273e-04\n",
      " -3.69624123e-02  1.66872274e-02  2.70310584e-02 -6.97530061e-02\n",
      "  8.06636550e-03 -1.44253569e-02  2.17695313e-04  4.35520634e-02\n",
      "  4.03721929e-02 -1.79731159e-03  2.02945955e-02 -8.40680301e-03\n",
      " -1.23004518e-01 -6.31092116e-02  1.00800261e-01  3.66188749e-03\n",
      " -1.32745177e-01 -6.60628527e-02  2.50130091e-02  9.73652452e-02\n",
      "  3.27661149e-02 -1.54934436e-01 -8.56865942e-02 -1.77395772e-02\n",
      "  1.95719581e-02  3.92749608e-02 -7.80812576e-02 -1.36949588e-02\n",
      " -5.81982471e-02  2.37492193e-02  2.01396886e-02 -2.50825342e-02\n",
      "  1.03242144e-01  4.89646085e-02  7.34974965e-02  2.31023375e-02\n",
      " -9.95322615e-02 -1.33233182e-02  4.66320962e-02 -3.67968343e-02\n",
      "  4.13190923e-04  3.63659970e-02  2.59664981e-03 -2.94822641e-02\n",
      " -1.21438846e-01 -2.88766314e-04  8.56672972e-03  6.41049519e-02\n",
      "  2.70826230e-03  1.31923333e-01  6.19126819e-02  8.60719185e-04\n",
      "  1.14752322e-01  1.48362264e-01  1.21414140e-02 -2.44703647e-02\n",
      "  7.05801696e-02 -8.57826788e-03]\n",
      "\n",
      "Concatenated TF-IDF and FastText:\n",
      " [ 8.43505729e-02  2.53933972e-01  1.89067769e-01  4.49866629e-01\n",
      "  2.58267819e-01  2.38668012e-01  8.43505729e-02  2.12426818e-01\n",
      "  2.17542697e-01  4.10027757e-01  2.45928058e-01  3.01911796e-01\n",
      "  3.83786563e-01  0.00000000e+00  0.00000000e+00  0.00000000e+00\n",
      "  0.00000000e+00  0.00000000e+00  0.00000000e+00  0.00000000e+00\n",
      "  0.00000000e+00  0.00000000e+00  0.00000000e+00  0.00000000e+00\n",
      "  0.00000000e+00  0.00000000e+00  0.00000000e+00  0.00000000e+00\n",
      "  0.00000000e+00  0.00000000e+00  0.00000000e+00  0.00000000e+00\n",
      "  0.00000000e+00  0.00000000e+00  0.00000000e+00  0.00000000e+00\n",
      "  0.00000000e+00  0.00000000e+00  0.00000000e+00  0.00000000e+00\n",
      "  0.00000000e+00  0.00000000e+00  0.00000000e+00  0.00000000e+00\n",
      "  0.00000000e+00  0.00000000e+00  0.00000000e+00  0.00000000e+00\n",
      "  0.00000000e+00  0.00000000e+00  0.00000000e+00  0.00000000e+00\n",
      "  0.00000000e+00  0.00000000e+00  0.00000000e+00  0.00000000e+00\n",
      "  0.00000000e+00  0.00000000e+00  0.00000000e+00  0.00000000e+00\n",
      "  0.00000000e+00  0.00000000e+00  0.00000000e+00  0.00000000e+00\n",
      "  0.00000000e+00  0.00000000e+00  0.00000000e+00  0.00000000e+00\n",
      "  0.00000000e+00  0.00000000e+00  0.00000000e+00  0.00000000e+00\n",
      "  0.00000000e+00  0.00000000e+00  0.00000000e+00  0.00000000e+00\n",
      "  0.00000000e+00  0.00000000e+00  0.00000000e+00  0.00000000e+00\n",
      "  0.00000000e+00  0.00000000e+00  0.00000000e+00  0.00000000e+00\n",
      "  0.00000000e+00  0.00000000e+00  0.00000000e+00  0.00000000e+00\n",
      "  0.00000000e+00  0.00000000e+00  0.00000000e+00  0.00000000e+00\n",
      "  0.00000000e+00  0.00000000e+00  0.00000000e+00  0.00000000e+00\n",
      "  0.00000000e+00  0.00000000e+00  0.00000000e+00  0.00000000e+00\n",
      "  0.00000000e+00  0.00000000e+00  0.00000000e+00  0.00000000e+00\n",
      "  0.00000000e+00  0.00000000e+00  0.00000000e+00  0.00000000e+00\n",
      "  0.00000000e+00  0.00000000e+00  0.00000000e+00  0.00000000e+00\n",
      "  0.00000000e+00  0.00000000e+00  0.00000000e+00  0.00000000e+00\n",
      "  0.00000000e+00  0.00000000e+00  0.00000000e+00  0.00000000e+00\n",
      "  0.00000000e+00  0.00000000e+00 -3.29635739e-02 -2.89863981e-02\n",
      " -7.69078219e-03 -6.50304705e-02  6.58081025e-02  5.81460185e-02\n",
      "  7.86797702e-02  9.25903991e-02  4.96433638e-02 -1.38680695e-03\n",
      " -3.33926380e-02 -4.92188893e-03  2.86300536e-02  7.25853769e-03\n",
      "  5.92136644e-02  6.94776624e-02  4.24675606e-02 -6.89182291e-03\n",
      "  4.59395442e-03 -5.00021093e-02  3.35359573e-02  3.67396101e-02\n",
      " -4.57255356e-02 -7.42474422e-02  7.38197193e-02  8.85012597e-02\n",
      " -5.66105768e-02 -1.98606942e-02 -5.13916202e-02  4.73010400e-03\n",
      " -9.47974902e-03 -1.92201305e-02  7.24567845e-02 -3.35388482e-02\n",
      "  1.84904769e-04 -3.67349610e-02 -9.76595059e-02 -1.26244789e-02\n",
      " -1.00661151e-01  1.74464528e-02  5.51918037e-02  9.54891145e-02\n",
      " -3.33733298e-02 -3.91015001e-02  2.92897131e-03 -1.07824197e-02\n",
      "  7.39957392e-02 -1.88683849e-02 -9.84053090e-02  7.72245824e-02\n",
      " -1.90748349e-02  2.22749282e-02 -5.14360964e-02  9.90590081e-02\n",
      " -3.69325355e-02  5.00587821e-02 -7.54446536e-02  1.32928535e-01\n",
      "  2.74041165e-02  9.17789042e-02  2.49264445e-02 -2.82232706e-02\n",
      " -1.57265276e-01 -1.32639119e-02  1.89047437e-02 -2.55293511e-02\n",
      "  2.55211815e-02  7.65012801e-02 -6.00689743e-03  1.01626307e-01\n",
      " -2.94265691e-02  6.92055735e-04  3.78317609e-02  1.74779799e-02\n",
      " -3.41006704e-02  9.96242911e-02 -2.19344199e-02 -5.97932413e-02\n",
      "  3.56301107e-02  7.17725083e-02 -2.45829038e-02 -5.40945455e-02\n",
      "  8.57219175e-02  1.22078713e-02 -1.20355636e-02  6.16425462e-02\n",
      " -9.10048485e-02 -2.25541256e-02 -1.51289077e-02 -2.41663828e-02\n",
      "  5.16162179e-02 -5.98230772e-03 -4.66974676e-02 -7.90319517e-02\n",
      " -4.78990898e-02 -7.52433911e-02  3.13034169e-02  8.78710821e-02\n",
      " -2.15548076e-04 -8.60320479e-02  7.91179389e-02 -5.67245856e-02\n",
      " -1.00169346e-01  5.32992370e-03 -3.93762700e-02  1.05614647e-01\n",
      " -8.95355493e-02  6.42521400e-03 -6.36817934e-03 -4.35989238e-02\n",
      " -8.75021368e-02 -7.17122480e-02  1.43883089e-02  5.36888838e-03\n",
      " -1.20902257e-02 -4.67887297e-02  2.17859820e-02  2.84592248e-02\n",
      "  1.03711719e-02 -4.88362424e-02  2.90417876e-02 -1.23004187e-02\n",
      " -7.26611167e-02 -1.56219481e-02 -7.31319264e-02 -1.87181439e-02\n",
      "  2.09015608e-02 -2.44110487e-02 -7.20393285e-02  4.99243774e-02\n",
      "  6.08542860e-02 -4.95342836e-02 -1.00263074e-01 -4.54919338e-02\n",
      "  5.43835498e-02 -7.18629509e-02 -4.76568118e-02 -1.31073426e-02\n",
      "  4.21186201e-02 -6.04641922e-02 -2.16147676e-02 -7.38745779e-02\n",
      " -2.59635281e-02 -4.20562318e-03 -1.65863372e-02  6.59853965e-03\n",
      "  7.58382753e-02  7.60385022e-02  5.09779565e-02  1.98717136e-02\n",
      "  4.31008078e-02 -8.34022909e-02 -9.50042456e-02  3.79896201e-02\n",
      " -4.27094065e-02  6.47688210e-02 -3.62802967e-02  9.21230316e-02\n",
      " -1.70736704e-02 -4.49665263e-02 -4.08951789e-02 -9.29500163e-02\n",
      "  6.20949790e-02  2.02090833e-02  1.19121633e-02 -2.33884640e-02\n",
      " -7.53944740e-02  1.42396344e-02  1.11417651e-01 -4.45794836e-02\n",
      "  6.00219965e-02 -4.91846763e-02  6.73430711e-02  4.05661389e-03\n",
      "  1.98513865e-02 -1.18432576e-02 -2.58429572e-02 -1.29763242e-02\n",
      " -5.43296970e-02  6.83097765e-02  4.79603373e-02  5.08060306e-02\n",
      " -6.97876737e-02 -5.25733493e-02 -5.90329207e-02  1.74372289e-02\n",
      " -3.23073636e-03 -1.92380752e-02 -5.07793352e-02  4.41067666e-02\n",
      " -4.95589077e-02  2.78885523e-03 -3.52081917e-02 -1.38830738e-02\n",
      " -8.97705406e-02 -1.32937878e-02 -8.86972845e-02  6.43162057e-02\n",
      " -4.06607427e-02 -2.07376126e-02  4.60418426e-02  1.04501036e-04\n",
      "  9.81969088e-02 -7.87217692e-02  1.60372118e-03  7.94888064e-02\n",
      " -2.13095210e-02  2.03423183e-02 -2.97890399e-02  7.09023280e-03\n",
      "  9.74512845e-03  1.04199452e-02  4.98070642e-02 -1.23316478e-02\n",
      " -1.46098644e-01  5.31911813e-02 -8.12565610e-02 -4.54159118e-02\n",
      "  2.61677802e-02  4.91081513e-02  2.11480279e-02 -2.52145734e-02\n",
      " -6.85545132e-02 -1.18531421e-01  3.50494795e-02  4.02216837e-02\n",
      " -1.43478453e-01 -2.97051277e-02  3.67457047e-02 -7.75777623e-02\n",
      "  5.87527603e-02  8.37014019e-02  2.18643527e-02 -1.41213294e-02\n",
      " -7.98224211e-02  1.30166978e-01  2.11938750e-02 -1.03905633e-01\n",
      "  5.38986772e-02 -2.23802850e-02  2.86337696e-02  9.91059989e-02\n",
      " -2.53296718e-02 -1.95745584e-02  9.64899734e-02  3.33989644e-03\n",
      "  1.53063494e-03  3.91868129e-02 -2.40014121e-02  6.29960671e-02\n",
      " -5.19299023e-02 -7.25267157e-02 -8.38994384e-02 -2.53132582e-02\n",
      " -4.85598892e-02 -2.96674240e-02 -4.10695653e-03 -6.59409538e-02\n",
      " -7.62868999e-03  2.33177212e-03  2.05416069e-03  1.69718191e-01\n",
      "  7.32816458e-02  5.34636825e-02 -7.97263533e-02  1.13829374e-01\n",
      "  3.42321135e-02  6.47929832e-02 -1.17775582e-01 -4.48479243e-02\n",
      " -6.66794460e-03 -5.75957261e-02  8.86629224e-02  6.55016154e-02\n",
      "  2.11645998e-02 -6.70345426e-02 -5.59651516e-02  3.93901020e-02\n",
      "  9.34944898e-02 -1.47791849e-02  1.02674931e-01  1.07898349e-02\n",
      " -2.89955642e-02 -2.33483594e-02  7.37758279e-02  7.91322067e-02\n",
      "  6.30576303e-03  1.76354218e-02 -2.10388303e-02 -1.02072936e-02\n",
      " -3.93313654e-02  9.47867483e-02  1.64164990e-01  7.24275932e-02\n",
      " -1.42419012e-02 -6.90098479e-02 -5.93731739e-02 -4.70251031e-03\n",
      " -2.06601191e-02  5.77293383e-03]\n"
     ]
    }
   ],
   "source": [
    "# Normalization function\n",
    "def normalize_vector(vector):\n",
    "    norm = np.linalg.norm(vector)\n",
    "    if norm == 0:\n",
    "        return vector\n",
    "    return vector / norm\n",
    "    \n",
    "# Function to concatenate TF-IDF and Word2Vec representations\n",
    "def concatenate_tfidf_word2vec(answer, documents):\n",
    "    tfidf_rep = get_tf_idf(answer, documents)\n",
    "    word2vec_rep = get_word2vec_representation(word_embeddings, answer)\n",
    "\n",
    "    # Normalize representations\n",
    "    tfidf_rep_normalized = normalize_vector(tfidf_rep)\n",
    "    word2vec_rep_normalized = normalize_vector(word2vec_rep)\n",
    "    \n",
    "    return np.concatenate([tfidf_rep_normalized, word2vec_rep_normalized])\n",
    "\n",
    "# Function to concatenate TF-IDF and FastText representations\n",
    "def concatenate_tfidf_fastText(answer, documents):\n",
    "    tfidf_rep = get_tf_idf(answer, documents)\n",
    "    fasttext_rep = get_fastText_representation(answer)\n",
    "\n",
    "    # Normalize representations\n",
    "    tfidf_rep_normalized = normalize_vector(tfidf_rep)\n",
    "    fasttext_rep_normalized = normalize_vector(fasttext_rep)\n",
    "    \n",
    "    return np.concatenate([tfidf_rep_normalized, fasttext_rep_normalized])\n",
    "\n",
    "tfidf_representation = get_tf_idf(first_answer, documents)\n",
    "word2vec_representation = get_word2vec_representation(word_embeddings, first_answer)\n",
    "fasttext_representation = get_fastText_representation(first_answer)\n",
    "\n",
    "concat_tfidf_word2vec = concatenate_tfidf_word2vec(first_answer, documents)\n",
    "concat_tfidf_fasttext = concatenate_tfidf_fastText(first_answer, documents)\n",
    "\n",
    "print(\"TF-IDF Representation of The First (Cleaned) Answer:\\n\", tfidf_representation)\n",
    "print(\"\\nWord2Vec Representation of The First (Cleaned) Answer:\\n\", word2vec_representation)\n",
    "print(\"\\nFastText Representation of The First (Cleaned) Answer:\\n\", fasttext_representation)\n",
    "print(\"\\nConcatenated TF-IDF and Word2Vec:\\n\", concat_tfidf_word2vec)\n",
    "print(\"\\nConcatenated TF-IDF and FastText:\\n\", concat_tfidf_fasttext)"
   ]
  },
  {
   "cell_type": "code",
   "execution_count": 34,
   "id": "362f2e61-74be-4c7b-a959-ca59695bf19e",
   "metadata": {
    "ExecuteTime": {
     "end_time": "2024-01-09T22:29:45.915602200Z",
     "start_time": "2024-01-09T22:29:45.879185900Z"
    }
   },
   "outputs": [
    {
     "name": "stdout",
     "output_type": "stream",
     "text": [
      "Length of Concatenated TF-IDF and Word2Vec: 422\n",
      "Length of Concatenated TF-IDF and FastText: 422\n"
     ]
    }
   ],
   "source": [
    "print(\"Length of Concatenated TF-IDF and Word2Vec:\", len(concat_tfidf_word2vec))\n",
    "print(\"Length of Concatenated TF-IDF and FastText:\", len(concat_tfidf_fasttext))"
   ]
  },
  {
   "cell_type": "code",
   "execution_count": 35,
   "id": "81694372-5edc-47bb-b51a-0518b35b9c20",
   "metadata": {
    "ExecuteTime": {
     "end_time": "2024-01-09T22:29:48.772145100Z",
     "start_time": "2024-01-09T22:29:46.615937800Z"
    }
   },
   "outputs": [],
   "source": [
    "sequences = []\n",
    "for index, row in df.iterrows():\n",
    "    question = row['Question']\n",
    "    answer = row['Answer_Cleaned']\n",
    "    concatenated_rep = concatenate_tfidf_fastText(answer, documents).tolist()\n",
    "    tensor_rep = torch.tensor(concatenated_rep)\n",
    "    sequences.append(tensor_rep)\n",
    "\n",
    "\n",
    "# Convert concatenated representations to numpy array\n",
    "X = np.array(sequences)\n",
    "\n",
    "# Convert your data into PyTorch tensors\n",
    "X_tensor = torch.tensor(X, dtype=torch.float32)\n",
    "y_tensor = torch.tensor(df['score'], dtype=torch.float32)"
   ]
  },
  {
   "cell_type": "code",
   "execution_count": 36,
   "id": "1b12a615-bf29-4e7e-8aa2-390359d4b0ec",
   "metadata": {
    "ExecuteTime": {
     "end_time": "2024-01-09T22:29:49.724789700Z",
     "start_time": "2024-01-09T22:29:49.678789200Z"
    }
   },
   "outputs": [],
   "source": [
    "def Concat_idx_tensor(X_tensor, indices):\n",
    "    # idx_tensor contains the indices of sentences\n",
    "    idx_tensor = torch.tensor(indices) \n",
    "    # Concatenate the idx_tensor with X_tensor along the second dimension (dim=1)\n",
    "    return torch.cat((idx_tensor.unsqueeze(1).float(), X_tensor), dim=1)\n",
    "indices = df['Question_id'].tolist()\n",
    "X_tensor = Concat_idx_tensor(X_tensor, indices)"
   ]
  },
  {
   "cell_type": "code",
   "execution_count": 37,
   "id": "8d563c26-99c1-45e1-82ce-36b2bd5a5141",
   "metadata": {
    "ExecuteTime": {
     "end_time": "2024-01-09T22:29:50.554199400Z",
     "start_time": "2024-01-09T22:29:50.507959800Z"
    }
   },
   "outputs": [],
   "source": [
    "class CustomDataset(Dataset):\n",
    "    def __init__(self, X, y):\n",
    "        self.X = X\n",
    "        self.y = y\n",
    "\n",
    "    def __len__(self):\n",
    "        return len(self.X)\n",
    "\n",
    "    def __getitem__(self, idx):\n",
    "        return self.X[idx], self.y[idx]"
   ]
  },
  {
   "cell_type": "code",
   "execution_count": 38,
   "id": "96b76f4a-cc9f-4bba-8467-82da50554b57",
   "metadata": {
    "ExecuteTime": {
     "end_time": "2024-01-09T22:29:51.314465100Z",
     "start_time": "2024-01-09T22:29:51.237883500Z"
    }
   },
   "outputs": [],
   "source": [
    "# Splitting data into train and test sets (80% train, 20% test)\n",
    "X_train, X_test, y_train, y_test = train_test_split(X_tensor, y_tensor, test_size=0.2, random_state=42)\n",
    "\n",
    "# Creating train and test datasets\n",
    "train_dataset = CustomDataset(X_train, y_train)\n",
    "test_dataset = CustomDataset(X_test, y_test)\n",
    "\n",
    "# Creating data loaders\n",
    "train_loader = DataLoader(train_dataset, batch_size=128, shuffle=True)\n",
    "test_loader = DataLoader(test_dataset, batch_size=32)\n"
   ]
  },
  {
   "cell_type": "code",
   "execution_count": 39,
   "id": "91afaf17-2e45-4476-8735-aa7507954e2e",
   "metadata": {
    "ExecuteTime": {
     "end_time": "2024-01-09T22:29:51.973218700Z",
     "start_time": "2024-01-09T22:29:51.927129800Z"
    }
   },
   "outputs": [],
   "source": [
    "class RNNModel(nn.Module):\n",
    "    def __init__(self, input_size, hidden_size, num_layers, bidirectional, output_size):\n",
    "        super(RNNModel, self).__init__()\n",
    "        self.hidden_size = hidden_size\n",
    "        self.num_layers = num_layers\n",
    "        self.num_directions = 2 if bidirectional else 1\n",
    "        \n",
    "        self.rnn = nn.RNN(input_size, hidden_size, num_layers, \n",
    "                          bidirectional=bidirectional, batch_first=True)\n",
    "        \n",
    "        self.fc = nn.Linear(hidden_size * self.num_directions, output_size)\n",
    "        self.sigmoid = nn.Sigmoid()\n",
    "        \n",
    "    def forward(self, x):\n",
    "        # h0 = torch.zeros(self.num_layers * self.num_directions, x.size(0), self.hidden_size)\n",
    "        out, _ = self.rnn(x)\n",
    "        out = self.fc(out)  # Get the output from the last time step\n",
    "        out = self.sigmoid(out)  # Sigmoid activation for binary classification\n",
    "        return out\n"
   ]
  },
  {
   "cell_type": "code",
   "execution_count": 40,
   "id": "88dc1c8a-0003-4c4a-9362-672b4ea9c73e",
   "metadata": {
    "ExecuteTime": {
     "end_time": "2024-01-09T22:29:52.660493500Z",
     "start_time": "2024-01-09T22:29:52.619382200Z"
    }
   },
   "outputs": [],
   "source": [
    "def train(model, train_loader, criterion, optimizer, epochs):\n",
    "    model.train()\n",
    "    loss_list = []\n",
    "    for epoch in tqdm.tqdm(range(epochs)):\n",
    "        running_loss = 0.0\n",
    "        total_correct = 0\n",
    "        total_samples = 0\n",
    "        predicted_positive = 0\n",
    "        actual_positive = 0\n",
    "        true_positive = 0\n",
    "        \n",
    "        for inputs, labels in train_loader:\n",
    "            optimizer.zero_grad()\n",
    "            outputs = model(inputs)\n",
    "            loss = criterion(outputs.squeeze(), labels.float()) \n",
    "            loss_list.append(loss.detach())\n",
    "            loss.backward()\n",
    "            optimizer.step()\n",
    "            running_loss += loss.item()\n",
    "            \n",
    "            # Calculate additional metrics\n",
    "            predicted = torch.round(outputs).squeeze()\n",
    "            total_correct += (predicted == labels.float()).sum().item()\n",
    "            total_samples += labels.size(0)\n",
    "            predicted_positive += predicted.sum().item()\n",
    "            actual_positive += labels.sum().item()\n",
    "            true_positive += ((predicted == 1) & (labels == 1)).sum().item()\n",
    "        if (epoch+1)%20 == 0:\n",
    "            precision = true_positive / (predicted_positive + 1e-15)  # Adding a small value to avoid division by zero\n",
    "            recall = true_positive / (actual_positive + 1e-15)\n",
    "            f1_score = 2 * (precision * recall) / (precision + recall + 1e-15)\n",
    "            average_loss = running_loss / len(train_loader)\n",
    "            \n",
    "            print(f\"Epoch {epoch+1}/{epochs} - Loss: {average_loss:.6f} - \"\n",
    "                  f\"Precision: {precision:.6f} - Recall: {recall:.6f} - F1 Score: {f1_score:.6f}\")\n",
    "    \n",
    "    plt.plot(loss_list)\n",
    "\n",
    "def evaluate(model, test_loader):\n",
    "    model.eval()\n",
    "    with torch.no_grad():\n",
    "        total_correct = 0\n",
    "        total_samples = 0\n",
    "        for inputs, labels in test_loader:\n",
    "            outputs = model(inputs)\n",
    "            predicted = torch.round(outputs).squeeze()\n",
    "            total_correct += (predicted.squeeze() == labels.float()).sum().item()\n",
    "            total_samples += labels.size(0)\n",
    "            break\n",
    "        accuracy = total_correct / total_samples # total_correct\n",
    "        print(f\"Accuracy: {accuracy * 100:.2f}%\")\n"
   ]
  },
  {
   "cell_type": "code",
   "execution_count": 41,
   "id": "4f63c523-d8c9-48d0-a7d4-3c27b97f5e07",
   "metadata": {
    "ExecuteTime": {
     "end_time": "2024-01-09T22:31:42.379558Z",
     "start_time": "2024-01-09T22:29:53.365040Z"
    }
   },
   "outputs": [
    {
     "name": "stderr",
     "output_type": "stream",
     "text": [
      " 10%|█         | 20/200 [00:09<01:16,  2.34it/s]"
     ]
    },
    {
     "name": "stdout",
     "output_type": "stream",
     "text": [
      "Epoch 20/200 - Loss: 0.455564 - Precision: 0.825397 - Recall: 0.818898 - F1 Score: 0.822134\n"
     ]
    },
    {
     "name": "stderr",
     "output_type": "stream",
     "text": [
      " 20%|██        | 40/200 [00:18<01:16,  2.10it/s]"
     ]
    },
    {
     "name": "stdout",
     "output_type": "stream",
     "text": [
      "Epoch 40/200 - Loss: 0.196630 - Precision: 0.944000 - Recall: 0.929134 - F1 Score: 0.936508\n"
     ]
    },
    {
     "name": "stderr",
     "output_type": "stream",
     "text": [
      " 30%|███       | 60/200 [00:28<01:12,  1.93it/s]"
     ]
    },
    {
     "name": "stdout",
     "output_type": "stream",
     "text": [
      "Epoch 60/200 - Loss: 0.054843 - Precision: 0.976378 - Recall: 0.976378 - F1 Score: 0.976378\n"
     ]
    },
    {
     "name": "stderr",
     "output_type": "stream",
     "text": [
      " 40%|████      | 80/200 [00:38<00:57,  2.10it/s]"
     ]
    },
    {
     "name": "stdout",
     "output_type": "stream",
     "text": [
      "Epoch 80/200 - Loss: 0.196596 - Precision: 0.863014 - Recall: 0.992126 - F1 Score: 0.923077\n"
     ]
    },
    {
     "name": "stderr",
     "output_type": "stream",
     "text": [
      " 50%|█████     | 100/200 [00:48<00:48,  2.08it/s]"
     ]
    },
    {
     "name": "stdout",
     "output_type": "stream",
     "text": [
      "Epoch 100/200 - Loss: 0.046216 - Precision: 0.976923 - Recall: 1.000000 - F1 Score: 0.988327\n"
     ]
    },
    {
     "name": "stderr",
     "output_type": "stream",
     "text": [
      " 60%|██████    | 120/200 [01:00<00:37,  2.14it/s]"
     ]
    },
    {
     "name": "stdout",
     "output_type": "stream",
     "text": [
      "Epoch 120/200 - Loss: 0.002965 - Precision: 1.000000 - Recall: 1.000000 - F1 Score: 1.000000\n"
     ]
    },
    {
     "name": "stderr",
     "output_type": "stream",
     "text": [
      " 70%|███████   | 140/200 [01:13<00:37,  1.59it/s]"
     ]
    },
    {
     "name": "stdout",
     "output_type": "stream",
     "text": [
      "Epoch 140/200 - Loss: 0.001457 - Precision: 1.000000 - Recall: 1.000000 - F1 Score: 1.000000\n"
     ]
    },
    {
     "name": "stderr",
     "output_type": "stream",
     "text": [
      " 80%|████████  | 160/200 [01:22<00:18,  2.15it/s]"
     ]
    },
    {
     "name": "stdout",
     "output_type": "stream",
     "text": [
      "Epoch 160/200 - Loss: 0.000709 - Precision: 1.000000 - Recall: 1.000000 - F1 Score: 1.000000\n"
     ]
    },
    {
     "name": "stderr",
     "output_type": "stream",
     "text": [
      " 90%|█████████ | 180/200 [01:34<00:15,  1.31it/s]"
     ]
    },
    {
     "name": "stdout",
     "output_type": "stream",
     "text": [
      "Epoch 180/200 - Loss: 0.000560 - Precision: 1.000000 - Recall: 1.000000 - F1 Score: 1.000000\n"
     ]
    },
    {
     "name": "stderr",
     "output_type": "stream",
     "text": [
      "100%|██████████| 200/200 [01:42<00:00,  1.95it/s]"
     ]
    },
    {
     "name": "stdout",
     "output_type": "stream",
     "text": [
      "Epoch 200/200 - Loss: 0.000341 - Precision: 1.000000 - Recall: 1.000000 - F1 Score: 1.000000\n",
      "Accuracy: 90.62%\n"
     ]
    },
    {
     "name": "stderr",
     "output_type": "stream",
     "text": [
      "\n"
     ]
    },
    {
     "data": {
      "text/plain": "<Figure size 640x480 with 1 Axes>",
      "image/png": "[encoded data removed]"
     },
     "metadata": {},
     "output_type": "display_data"
    }
   ],
   "source": [
    "# Tune model architecture\n",
    "input_size = X_tensor.shape[1]  \n",
    "hidden_size = 256  \n",
    "num_layers = 3  \n",
    "output_size = 1\n",
    "\n",
    "# Initialize model\n",
    "model = RNNModel(input_size=input_size, hidden_size=hidden_size, num_layers=num_layers, bidirectional=True, output_size=output_size)\n",
    "\n",
    "# Define loss function and optimizer\n",
    "criterion = nn.BCELoss()\n",
    "optimizer = torch.optim.Adam(model.parameters(), lr=0.001)\n",
    "\n",
    "# Train the model\n",
    "train(model, train_loader, criterion, optimizer, epochs=200)\n",
    "\n",
    "# Evaluate the model on test data\n",
    "evaluate(model, test_loader)\n"
   ]
  },
  {
   "cell_type": "code",
   "execution_count": 42,
   "id": "0454eb5d-0f03-482f-a00e-eb6c84120a9f",
   "metadata": {
    "ExecuteTime": {
     "end_time": "2024-01-09T22:31:54.693740800Z",
     "start_time": "2024-01-09T22:31:54.660751700Z"
    }
   },
   "outputs": [
    {
     "name": "stdout",
     "output_type": "stream",
     "text": [
      "Predicted class: 1\n"
     ]
    }
   ],
   "source": [
    "def predict(question_idx, answer, model):\n",
    "    model.eval()\n",
    "    answer = nlp_pipeline(answer)\n",
    "    concatenated_rep = concatenate_tfidf_fastText(answer, documents).tolist()\n",
    "    x_val = np.array([concatenated_rep])\n",
    "    x_val_tensor = torch.tensor(x_val, dtype=torch.float32)\n",
    "    x_val_tensor = Concat_idx_tensor(x_val_tensor, [question_idx])\n",
    "    with torch.no_grad():\n",
    "        output = model(x_val_tensor)\n",
    "        predicted_class = 1 if output.item() > 0.5 else 0  # Threshold is 0.5 for binary classification\n",
    "        return predicted_class\n",
    "        \n",
    "question_idx = 1\n",
    "answer = 'أوّل خلق الله من البشر هو النبي آدم عليه السلام'\n",
    "\n",
    "predicted_class = predict(question_idx, answer, model)\n",
    "print(\"Predicted class:\", predicted_class)"
   ]
  },
  {
   "cell_type": "code",
   "execution_count": 43,
   "id": "5b5ee272-6fd6-444c-8602-eefabff3de96",
   "metadata": {
    "ExecuteTime": {
     "end_time": "2024-01-09T22:31:58.554880300Z",
     "start_time": "2024-01-09T22:31:58.521900100Z"
    }
   },
   "outputs": [],
   "source": [
    "class PowerfulLSTM(nn.Module):\n",
    "    def __init__(self, input_size, hidden_size, output_size, num_layers=2, dropout=0.2):\n",
    "        super(PowerfulLSTM, self).__init__()\n",
    "        self.hidden_size = hidden_size\n",
    "        self.num_layers = num_layers\n",
    "        self.lstm = nn.LSTM(input_size, hidden_size, num_layers, batch_first=True, dropout=dropout)\n",
    "        self.fc = nn.Linear(hidden_size, output_size)\n",
    "        self.sigmoid = nn.Sigmoid()  # Sigmoid activation for binary classification\n",
    "    \n",
    "    def forward(self, x):\n",
    "        # h0 = torch.zeros(self.num_layers, x.size(0), self.hidden_size).to(x.device)  # Initial hidden state\n",
    "        # c0 = torch.zeros(self.num_layers, x.size(0), self.hidden_size).to(x.device)  # Initial cell state\n",
    "\n",
    "        out, _ = self.lstm(x)\n",
    "        out = self.fc(out)  # Use output of the last time step\n",
    "        out = self.sigmoid(out)  # Sigmoid activation for binary classification\n",
    "        return out\n"
   ]
  },
  {
   "cell_type": "code",
   "execution_count": 44,
   "id": "0cf3ef70-2bde-4951-b6ec-372af2d0daa5",
   "metadata": {
    "ExecuteTime": {
     "end_time": "2024-01-09T22:31:59.296260Z",
     "start_time": "2024-01-09T22:31:59.247350Z"
    }
   },
   "outputs": [],
   "source": [
    "def train_evaluate(model, train_loader, test_loader, criterion, optimizer, epochs):\n",
    "    train_losses = []\n",
    "    test_losses = []\n",
    "    for epoch in tqdm.tqdm(range(epochs)):\n",
    "        # Training\n",
    "        model.train()\n",
    "        running_loss = 0.0\n",
    "        for inputs, labels in train_loader:\n",
    "            optimizer.zero_grad()\n",
    "            outputs = model(inputs)\n",
    "            loss = criterion(outputs.squeeze(), labels.float())\n",
    "            loss.backward()\n",
    "            optimizer.step()\n",
    "            running_loss += loss.item() * inputs.size(0)\n",
    "        train_loss = running_loss / len(train_loader.dataset)\n",
    "        train_losses.append(train_loss)\n",
    "\n",
    "        # Evaluation\n",
    "        model.eval()\n",
    "        test_loss = 0.0\n",
    "        correct = 0\n",
    "        total = 0\n",
    "        with torch.no_grad():\n",
    "            for inputs, labels in test_loader:\n",
    "                outputs = model(inputs)\n",
    "                loss = criterion(outputs.squeeze(), labels.float())\n",
    "                test_loss += loss.item() * inputs.size(0)\n",
    "                predicted = (outputs > 0.5).squeeze().long()\n",
    "                total += labels.size(0)\n",
    "                correct += (predicted == labels).sum().item()\n",
    "            test_loss = test_loss / len(test_loader.dataset)\n",
    "            test_losses.append(test_loss)\n",
    "            accuracy = 100 * correct / total\n",
    "        print(\n",
    "                f'Epoch [{epoch+1}/{epochs}], Train Loss: {train_loss:.4f}, Test Loss: {test_loss:.4f}, Test Accuracy: {accuracy:.2f}%')\n",
    "\n",
    "    return train_losses, test_losses"
   ]
  },
  {
   "cell_type": "code",
   "execution_count": 45,
   "id": "de0f9a57-ae39-4501-b13f-30e12e03296c",
   "metadata": {
    "ExecuteTime": {
     "end_time": "2024-01-09T22:32:05.020830900Z",
     "start_time": "2024-01-09T22:32:00.372291600Z"
    }
   },
   "outputs": [
    {
     "name": "stderr",
     "output_type": "stream",
     "text": [
      " 10%|█         | 1/10 [00:00<00:04,  2.01it/s]"
     ]
    },
    {
     "name": "stdout",
     "output_type": "stream",
     "text": [
      "Epoch [1/10], Train Loss: 0.0004, Test Loss: 0.8781, Test Accuracy: 87.50%\n"
     ]
    },
    {
     "name": "stderr",
     "output_type": "stream",
     "text": [
      " 20%|██        | 2/10 [00:00<00:03,  2.09it/s]"
     ]
    },
    {
     "name": "stdout",
     "output_type": "stream",
     "text": [
      "Epoch [2/10], Train Loss: 0.0004, Test Loss: 0.8794, Test Accuracy: 87.50%\n"
     ]
    },
    {
     "name": "stderr",
     "output_type": "stream",
     "text": [
      " 30%|███       | 3/10 [00:01<00:03,  2.21it/s]"
     ]
    },
    {
     "name": "stdout",
     "output_type": "stream",
     "text": [
      "Epoch [3/10], Train Loss: 0.0004, Test Loss: 0.8802, Test Accuracy: 87.50%\n"
     ]
    },
    {
     "name": "stderr",
     "output_type": "stream",
     "text": [
      " 40%|████      | 4/10 [00:01<00:02,  2.26it/s]"
     ]
    },
    {
     "name": "stdout",
     "output_type": "stream",
     "text": [
      "Epoch [4/10], Train Loss: 0.0004, Test Loss: 0.8806, Test Accuracy: 87.50%\n"
     ]
    },
    {
     "name": "stderr",
     "output_type": "stream",
     "text": [
      " 50%|█████     | 5/10 [00:02<00:02,  2.23it/s]"
     ]
    },
    {
     "name": "stdout",
     "output_type": "stream",
     "text": [
      "Epoch [5/10], Train Loss: 0.0003, Test Loss: 0.8809, Test Accuracy: 87.50%\n"
     ]
    },
    {
     "name": "stderr",
     "output_type": "stream",
     "text": [
      " 60%|██████    | 6/10 [00:02<00:01,  2.20it/s]"
     ]
    },
    {
     "name": "stdout",
     "output_type": "stream",
     "text": [
      "Epoch [6/10], Train Loss: 0.0004, Test Loss: 0.8815, Test Accuracy: 87.50%\n"
     ]
    },
    {
     "name": "stderr",
     "output_type": "stream",
     "text": [
      " 70%|███████   | 7/10 [00:03<00:01,  2.15it/s]"
     ]
    },
    {
     "name": "stdout",
     "output_type": "stream",
     "text": [
      "Epoch [7/10], Train Loss: 0.0004, Test Loss: 0.8827, Test Accuracy: 87.50%\n"
     ]
    },
    {
     "name": "stderr",
     "output_type": "stream",
     "text": [
      " 80%|████████  | 8/10 [00:03<00:00,  2.13it/s]"
     ]
    },
    {
     "name": "stdout",
     "output_type": "stream",
     "text": [
      "Epoch [8/10], Train Loss: 0.0003, Test Loss: 0.8839, Test Accuracy: 87.50%\n"
     ]
    },
    {
     "name": "stderr",
     "output_type": "stream",
     "text": [
      " 90%|█████████ | 9/10 [00:04<00:00,  2.13it/s]"
     ]
    },
    {
     "name": "stdout",
     "output_type": "stream",
     "text": [
      "Epoch [9/10], Train Loss: 0.0004, Test Loss: 0.8855, Test Accuracy: 87.50%\n"
     ]
    },
    {
     "name": "stderr",
     "output_type": "stream",
     "text": [
      "100%|██████████| 10/10 [00:04<00:00,  2.17it/s]"
     ]
    },
    {
     "name": "stdout",
     "output_type": "stream",
     "text": [
      "Epoch [10/10], Train Loss: 0.0003, Test Loss: 0.8873, Test Accuracy: 87.50%\n"
     ]
    },
    {
     "name": "stderr",
     "output_type": "stream",
     "text": [
      "\n"
     ]
    }
   ],
   "source": [
    "# Initialize model\n",
    "lstm_model = PowerfulLSTM(input_size=input_size, hidden_size=hidden_size, output_size=output_size)\n",
    "\n",
    "# Train the model\n",
    "train_losses, test_losses = train_evaluate(model, train_loader, test_loader, criterion, optimizer, epochs=10)"
   ]
  },
  {
   "cell_type": "code",
   "execution_count": 47,
   "id": "27783a5b-3e08-4f47-9bf4-5cc991a48e99",
   "metadata": {
    "ExecuteTime": {
     "end_time": "2024-01-09T22:32:38.373302500Z",
     "start_time": "2024-01-09T22:32:38.337304600Z"
    }
   },
   "outputs": [],
   "source": [
    "# Save the entire model\n",
    "torch.save(model, 'RNNModel.pth')\n"
   ]
  },
  {
   "cell_type": "code",
   "execution_count": null,
   "outputs": [],
   "source": [],
   "metadata": {
    "collapsed": false
   },
   "id": "672345c9b75b5b98"
  }
 ],
 "metadata": {
  "kernelspec": {
   "display_name": "Python 3 (ipykernel)",
   "language": "python",
   "name": "python3"
  },
  "language_info": {
   "codemirror_mode": {
    "name": "ipython",
    "version": 3
   },
   "file_extension": ".py",
   "mimetype": "text/x-python",
   "name": "python",
   "nbconvert_exporter": "python",
   "pygments_lexer": "ipython3",
   "version": "3.10.11"
  }
 },
 "nbformat": 4,
 "nbformat_minor": 5
}
